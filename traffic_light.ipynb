{
  "nbformat": 4,
  "nbformat_minor": 0,
  "metadata": {
    "colab": {
      "provenance": [],
      "authorship_tag": "ABX9TyO8awr7LAIxItgH+8mprdno",
      "include_colab_link": true
    },
    "kernelspec": {
      "name": "python3",
      "display_name": "Python 3"
    },
    "language_info": {
      "name": "python"
    }
  },
  "cells": [
    {
      "cell_type": "markdown",
      "metadata": {
        "id": "view-in-github",
        "colab_type": "text"
      },
      "source": [
        "<a href=\"https://colab.research.google.com/github/Nami298/Exercise/blob/main/traffic_light.ipynb\" target=\"_parent\"><img src=\"https://colab.research.google.com/assets/colab-badge.svg\" alt=\"Open In Colab\"/></a>"
      ]
    },
    {
      "cell_type": "code",
      "source": [
        "from google.colab import files\n",
        "uploaded = files.upload()\n"
      ],
      "metadata": {
        "colab": {
          "base_uri": "https://localhost:8080/",
          "height": 78
        },
        "id": "hHwGy8BJzq3f",
        "outputId": "38c88b3d-bd76-4c09-b3e5-db4b30bbf091"
      },
      "execution_count": 10,
      "outputs": [
        {
          "output_type": "display_data",
          "data": {
            "text/plain": [
              "<IPython.core.display.HTML object>"
            ],
            "text/html": [
              "\n",
              "     <input type=\"file\" id=\"files-d8c600b6-6982-4187-b3c6-1840ee94ebb0\" name=\"files[]\" multiple disabled\n",
              "        style=\"border:none\" />\n",
              "     <output id=\"result-d8c600b6-6982-4187-b3c6-1840ee94ebb0\">\n",
              "      Upload widget is only available when the cell has been executed in the\n",
              "      current browser session. Please rerun this cell to enable.\n",
              "      </output>\n",
              "      <script>// Copyright 2017 Google LLC\n",
              "//\n",
              "// Licensed under the Apache License, Version 2.0 (the \"License\");\n",
              "// you may not use this file except in compliance with the License.\n",
              "// You may obtain a copy of the License at\n",
              "//\n",
              "//      http://www.apache.org/licenses/LICENSE-2.0\n",
              "//\n",
              "// Unless required by applicable law or agreed to in writing, software\n",
              "// distributed under the License is distributed on an \"AS IS\" BASIS,\n",
              "// WITHOUT WARRANTIES OR CONDITIONS OF ANY KIND, either express or implied.\n",
              "// See the License for the specific language governing permissions and\n",
              "// limitations under the License.\n",
              "\n",
              "/**\n",
              " * @fileoverview Helpers for google.colab Python module.\n",
              " */\n",
              "(function(scope) {\n",
              "function span(text, styleAttributes = {}) {\n",
              "  const element = document.createElement('span');\n",
              "  element.textContent = text;\n",
              "  for (const key of Object.keys(styleAttributes)) {\n",
              "    element.style[key] = styleAttributes[key];\n",
              "  }\n",
              "  return element;\n",
              "}\n",
              "\n",
              "// Max number of bytes which will be uploaded at a time.\n",
              "const MAX_PAYLOAD_SIZE = 100 * 1024;\n",
              "\n",
              "function _uploadFiles(inputId, outputId) {\n",
              "  const steps = uploadFilesStep(inputId, outputId);\n",
              "  const outputElement = document.getElementById(outputId);\n",
              "  // Cache steps on the outputElement to make it available for the next call\n",
              "  // to uploadFilesContinue from Python.\n",
              "  outputElement.steps = steps;\n",
              "\n",
              "  return _uploadFilesContinue(outputId);\n",
              "}\n",
              "\n",
              "// This is roughly an async generator (not supported in the browser yet),\n",
              "// where there are multiple asynchronous steps and the Python side is going\n",
              "// to poll for completion of each step.\n",
              "// This uses a Promise to block the python side on completion of each step,\n",
              "// then passes the result of the previous step as the input to the next step.\n",
              "function _uploadFilesContinue(outputId) {\n",
              "  const outputElement = document.getElementById(outputId);\n",
              "  const steps = outputElement.steps;\n",
              "\n",
              "  const next = steps.next(outputElement.lastPromiseValue);\n",
              "  return Promise.resolve(next.value.promise).then((value) => {\n",
              "    // Cache the last promise value to make it available to the next\n",
              "    // step of the generator.\n",
              "    outputElement.lastPromiseValue = value;\n",
              "    return next.value.response;\n",
              "  });\n",
              "}\n",
              "\n",
              "/**\n",
              " * Generator function which is called between each async step of the upload\n",
              " * process.\n",
              " * @param {string} inputId Element ID of the input file picker element.\n",
              " * @param {string} outputId Element ID of the output display.\n",
              " * @return {!Iterable<!Object>} Iterable of next steps.\n",
              " */\n",
              "function* uploadFilesStep(inputId, outputId) {\n",
              "  const inputElement = document.getElementById(inputId);\n",
              "  inputElement.disabled = false;\n",
              "\n",
              "  const outputElement = document.getElementById(outputId);\n",
              "  outputElement.innerHTML = '';\n",
              "\n",
              "  const pickedPromise = new Promise((resolve) => {\n",
              "    inputElement.addEventListener('change', (e) => {\n",
              "      resolve(e.target.files);\n",
              "    });\n",
              "  });\n",
              "\n",
              "  const cancel = document.createElement('button');\n",
              "  inputElement.parentElement.appendChild(cancel);\n",
              "  cancel.textContent = 'Cancel upload';\n",
              "  const cancelPromise = new Promise((resolve) => {\n",
              "    cancel.onclick = () => {\n",
              "      resolve(null);\n",
              "    };\n",
              "  });\n",
              "\n",
              "  // Wait for the user to pick the files.\n",
              "  const files = yield {\n",
              "    promise: Promise.race([pickedPromise, cancelPromise]),\n",
              "    response: {\n",
              "      action: 'starting',\n",
              "    }\n",
              "  };\n",
              "\n",
              "  cancel.remove();\n",
              "\n",
              "  // Disable the input element since further picks are not allowed.\n",
              "  inputElement.disabled = true;\n",
              "\n",
              "  if (!files) {\n",
              "    return {\n",
              "      response: {\n",
              "        action: 'complete',\n",
              "      }\n",
              "    };\n",
              "  }\n",
              "\n",
              "  for (const file of files) {\n",
              "    const li = document.createElement('li');\n",
              "    li.append(span(file.name, {fontWeight: 'bold'}));\n",
              "    li.append(span(\n",
              "        `(${file.type || 'n/a'}) - ${file.size} bytes, ` +\n",
              "        `last modified: ${\n",
              "            file.lastModifiedDate ? file.lastModifiedDate.toLocaleDateString() :\n",
              "                                    'n/a'} - `));\n",
              "    const percent = span('0% done');\n",
              "    li.appendChild(percent);\n",
              "\n",
              "    outputElement.appendChild(li);\n",
              "\n",
              "    const fileDataPromise = new Promise((resolve) => {\n",
              "      const reader = new FileReader();\n",
              "      reader.onload = (e) => {\n",
              "        resolve(e.target.result);\n",
              "      };\n",
              "      reader.readAsArrayBuffer(file);\n",
              "    });\n",
              "    // Wait for the data to be ready.\n",
              "    let fileData = yield {\n",
              "      promise: fileDataPromise,\n",
              "      response: {\n",
              "        action: 'continue',\n",
              "      }\n",
              "    };\n",
              "\n",
              "    // Use a chunked sending to avoid message size limits. See b/62115660.\n",
              "    let position = 0;\n",
              "    do {\n",
              "      const length = Math.min(fileData.byteLength - position, MAX_PAYLOAD_SIZE);\n",
              "      const chunk = new Uint8Array(fileData, position, length);\n",
              "      position += length;\n",
              "\n",
              "      const base64 = btoa(String.fromCharCode.apply(null, chunk));\n",
              "      yield {\n",
              "        response: {\n",
              "          action: 'append',\n",
              "          file: file.name,\n",
              "          data: base64,\n",
              "        },\n",
              "      };\n",
              "\n",
              "      let percentDone = fileData.byteLength === 0 ?\n",
              "          100 :\n",
              "          Math.round((position / fileData.byteLength) * 100);\n",
              "      percent.textContent = `${percentDone}% done`;\n",
              "\n",
              "    } while (position < fileData.byteLength);\n",
              "  }\n",
              "\n",
              "  // All done.\n",
              "  yield {\n",
              "    response: {\n",
              "      action: 'complete',\n",
              "    }\n",
              "  };\n",
              "}\n",
              "\n",
              "scope.google = scope.google || {};\n",
              "scope.google.colab = scope.google.colab || {};\n",
              "scope.google.colab._files = {\n",
              "  _uploadFiles,\n",
              "  _uploadFilesContinue,\n",
              "};\n",
              "})(self);\n",
              "</script> "
            ]
          },
          "metadata": {}
        },
        {
          "output_type": "stream",
          "name": "stdout",
          "text": [
            "Saving archive(1).zip to archive(1).zip\n"
          ]
        }
      ]
    },
    {
      "cell_type": "code",
      "source": [
        "import zipfile\n",
        "\n",
        "with zipfile.ZipFile(\"archive(1).zip\", 'r') as zip_ref:\n",
        "    zip_ref.extractall(\"carla_dataset\")\n"
      ],
      "metadata": {
        "id": "DjpZV_zU2R9d"
      },
      "execution_count": 13,
      "outputs": []
    },
    {
      "cell_type": "code",
      "source": [
        "import os\n",
        "import random\n",
        "import cv2\n",
        "from matplotlib import pyplot as plt\n",
        "import zipfile\n",
        "from google.colab import files\n"
      ],
      "metadata": {
        "id": "GmiSF6R87ora"
      },
      "execution_count": 19,
      "outputs": []
    },
    {
      "cell_type": "code",
      "source": [
        "import os\n",
        "\n",
        "base_path = \"carla_dataset/traffic_light_data/train\"\n",
        "\n",
        "print(\"Exist?\", os.path.exists(base_path))\n",
        "print(\"Folders inside 'train':\", os.listdir(base_path) if os.path.exists(base_path) else \"Path not found\")\n"
      ],
      "metadata": {
        "colab": {
          "base_uri": "https://localhost:8080/"
        },
        "id": "mdgx4oNV8s5U",
        "outputId": "406e6c44-e98f-4fd2-bc96-b35f9067ac74"
      },
      "execution_count": 20,
      "outputs": [
        {
          "output_type": "stream",
          "name": "stdout",
          "text": [
            "Exist? True\n",
            "Folders inside 'train': ['yellow', 'back', 'red', 'green']\n"
          ]
        }
      ]
    },
    {
      "cell_type": "code",
      "source": [
        "import random\n",
        "import cv2\n",
        "from matplotlib import pyplot as plt\n",
        "import os\n",
        "\n",
        "dataset_path = \"carla_dataset/traffic_light_data/train\"\n",
        "classes = ['red', 'yellow', 'green']\n",
        "\n",
        "# انتخاب رندوم کلاس\n",
        "chosen_class = random.choice(classes)\n",
        "\n",
        "# لیست فایل‌های داخل پوشه کلاس انتخاب شده\n",
        "class_path = os.path.join(dataset_path, chosen_class)\n",
        "image_files = [f for f in os.listdir(class_path) if f.endswith(('.jpg', '.png', '.jpeg'))]\n",
        "\n",
        "# انتخاب رندوم یک تصویر\n",
        "chosen_image = random.choice(image_files)\n",
        "image_path = os.path.join(class_path, chosen_image)\n",
        "\n",
        "# خواندن تصویر با OpenCV (BGR)\n",
        "image = cv2.imread(image_path)\n",
        "\n",
        "# تبدیل BGR به RGB برای نمایش با matplotlib\n",
        "image_rgb = cv2.cvtColor(image, cv2.COLOR_BGR2RGB)\n",
        "\n",
        "# نمایش تصویر با عنوان رنگ تشخیص داده شده\n",
        "plt.imshow(image_rgb)\n",
        "plt.title(f\"Detected Traffic Light Color: {chosen_class.upper()}\")\n",
        "plt.axis('off')\n",
        "plt.show()\n"
      ],
      "metadata": {
        "colab": {
          "base_uri": "https://localhost:8080/",
          "height": 428
        },
        "id": "m16QPtJ39CtW",
        "outputId": "06fb092f-c300-42c9-d459-238c54d0bcde"
      },
      "execution_count": 21,
      "outputs": [
        {
          "output_type": "display_data",
          "data": {
            "text/plain": [
              "<Figure size 640x480 with 1 Axes>"
            ],
            "image/png": "[encoded data removed]"
          },
          "metadata": {}
        }
      ]
    },
    {
      "cell_type": "code",
      "source": [
        "def detect_traffic_light_color(image):\n",
        "    \"\"\"\n",
        "    تشخیص رنگ چراغ راهنمایی بر اساس تصویر ورودی (RGB)\n",
        "    خروجی: یکی از 'red' یا 'yellow' یا 'green'\n",
        "    \"\"\"\n",
        "    import numpy as np\n",
        "    import cv2\n",
        "\n",
        "    # تبدیل تصویر از RGB به HSV\n",
        "    hsv = cv2.cvtColor(image, cv2.COLOR_RGB2HSV)\n",
        "\n",
        "    # بازه‌های رنگی HSV برای قرمز، زرد و سبز\n",
        "    lower_red1 = np.array([0, 100, 100])\n",
        "    upper_red1 = np.array([10, 255, 255])\n",
        "    lower_red2 = np.array([160, 100, 100])\n",
        "    upper_red2 = np.array([179, 255, 255])\n",
        "\n",
        "    lower_yellow = np.array([15, 100, 100])\n",
        "    upper_yellow = np.array([35, 255, 255])\n",
        "\n",
        "    lower_green = np.array([40, 50, 50])\n",
        "    upper_green = np.array([90, 255, 255])\n",
        "\n",
        "    # ماسک‌های رنگی بسازیم\n",
        "    mask_red1 = cv2.inRange(hsv, lower_red1, upper_red1)\n",
        "    mask_red2 = cv2.inRange(hsv, lower_red2, upper_red2)\n",
        "    mask_red = cv2.bitwise_or(mask_red1, mask_red2)\n",
        "\n",
        "    mask_yellow = cv2.inRange(hsv, lower_yellow, upper_yellow)\n",
        "    mask_green = cv2.inRange(hsv, lower_green, upper_green)\n",
        "\n",
        "    # تعداد پیکسل‌های هر رنگ\n",
        "    red_count = cv2.countNonZero(mask_red)\n",
        "    yellow_count = cv2.countNonZero(mask_yellow)\n",
        "    green_count = cv2.countNonZero(mask_green)\n",
        "\n",
        "    counts = {'red': red_count, 'yellow': yellow_count, 'green': green_count}\n",
        "    detected_color = max(counts, key=counts.get)  # رنگ با بیشترین پیکسل\n",
        "\n",
        "    return detected_color\n"
      ],
      "metadata": {
        "id": "iQmMF-Nr-6Q5"
      },
      "execution_count": 24,
      "outputs": []
    },
    {
      "cell_type": "code",
      "source": [
        "# مسیر دیتاست و کلاس‌ها\n",
        "dataset_path = \"carla_dataset/traffic_light_data/train\"\n",
        "classes = ['red', 'yellow', 'green']\n",
        "\n",
        "# انتخاب رندوم کلاس\n",
        "chosen_class = random.choice(classes)\n",
        "\n",
        "# لیست فایل‌های تصویر کلاس انتخاب شده\n",
        "class_path = os.path.join(dataset_path, chosen_class)\n",
        "image_files = [f for f in os.listdir(class_path) if f.endswith(('.jpg', '.png', '.jpeg'))]\n",
        "\n",
        "# انتخاب رندوم یک تصویر\n",
        "chosen_image = random.choice(image_files)\n",
        "image_path = os.path.join(class_path, chosen_image)\n",
        "\n",
        "# خواندن تصویر با OpenCV (BGR)\n",
        "image = cv2.imread(image_path)\n",
        "\n",
        "# تبدیل BGR به RGB برای تابع تشخیص و نمایش\n",
        "image_rgb = cv2.cvtColor(image, cv2.COLOR_BGR2RGB)\n",
        "\n",
        "# تشخیص رنگ چراغ\n",
        "detected_color = detect_traffic_light_color(image_rgb)\n",
        "\n",
        "# نمایش تصویر با عنوان رنگ تشخیص داده شده\n",
        "plt.imshow(image_rgb)\n",
        "plt.title(f\"Predicted Color: {detected_color.upper()}\")\n",
        "plt.axis('off')\n",
        "plt.show()\n"
      ],
      "metadata": {
        "colab": {
          "base_uri": "https://localhost:8080/",
          "height": 428
        },
        "id": "8XNg6CvN_TL5",
        "outputId": "112eb6d2-1b60-4ba0-9ac7-1d7dea5c3ffe"
      },
      "execution_count": 32,
      "outputs": [
        {
          "output_type": "display_data",
          "data": {
            "text/plain": [
              "<Figure size 640x480 with 1 Axes>"
            ],
            "image/png": "[encoded data removed]"
          },
          "metadata": {}
        }
      ]
    }
  ]
}